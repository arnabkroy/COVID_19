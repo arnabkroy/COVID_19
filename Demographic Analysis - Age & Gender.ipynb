{
 "cells": [
  {
   "cell_type": "code",
   "execution_count": 2,
   "metadata": {},
   "outputs": [],
   "source": [
    "import numpy as np\n",
    "import pandas as pd\n",
    "import matplotlib.pyplot as plt\n",
    "import seaborn as sns\n",
    "# sns.set_style('darkgrid')\n",
    "\n",
    "import warnings\n",
    "warnings.filterwarnings(\"ignore\")"
   ]
  },
  {
   "cell_type": "code",
   "execution_count": 3,
   "metadata": {},
   "outputs": [],
   "source": [
    "def ImportData():\n",
    "    print('Loading Data...')\n",
    "    raw_df = pd.read_csv('./Raw_Data_28042020.csv')\n",
    "    \n",
    "    print('\\nRows: '+str(raw_df.shape[0])+'\\nColumns: '+str(raw_df.shape[1]))\n",
    "    return raw_df"
   ]
  },
  {
   "cell_type": "code",
   "execution_count": 4,
   "metadata": {},
   "outputs": [],
   "source": [
    "def FeatureEngineeringColumn(df,col):\n",
    "    df['Hospitalized'] = np.where(df['Current Status']=='Hospitalized',1,0)\n",
    "    df['Recovered'] = np.where(df['Current Status']=='Recovered',1,0)\n",
    "    df['Deceased'] = np.where(df['Current Status']=='Deceased',1,0)\n",
    "    \n",
    "    df_grpd = df.groupby(['Date Announced',col]).agg({'Hospitalized': 'sum', 'Recovered':'sum', 'Deceased':'sum'}).reset_index()\n",
    "    df_x = df_grpd.copy()\n",
    "    df_grpd['Date Announced'] = pd.to_datetime(df_grpd['Date Announced'],format='%d/%m/%Y')\n",
    "    df_grpd.sort_values(by='Date Announced',inplace=True)\n",
    "    \n",
    "    return df_grpd"
   ]
  },
  {
   "cell_type": "code",
   "execution_count": 5,
   "metadata": {},
   "outputs": [],
   "source": [
    "def ChooseColumn(df,col,val):\n",
    "    df = df[df[col]==val]\n",
    "    \n",
    "    return df"
   ]
  },
  {
   "cell_type": "code",
   "execution_count": 6,
   "metadata": {},
   "outputs": [],
   "source": [
    "def AccumulatorNormalised(df_grpd):\n",
    "    df_grpd['Hospitalized_c'] = None\n",
    "    h=0\n",
    "    a=0\n",
    "    for i in range(0,len(df_grpd['Hospitalized'])):\n",
    "        a = df_grpd.iloc[i]['Hospitalized']\n",
    "        h=h+a\n",
    "        df_grpd['Hospitalized_c'].iloc[i] = h\n",
    "\n",
    "    df_grpd['Recovered_c'] = None\n",
    "    r=0\n",
    "    a=0\n",
    "    for i in range(0,len(df_grpd['Recovered'])):\n",
    "        a = df_grpd.iloc[i]['Recovered']\n",
    "        r=r+a\n",
    "        df_grpd['Recovered_c'].iloc[i] = r\n",
    "\n",
    "\n",
    "    df_grpd['Deceased_c'] = None\n",
    "    d=0\n",
    "    a=0\n",
    "    for i in range(0,len(df_grpd['Deceased'])):\n",
    "        a = df_grpd.iloc[i]['Deceased']\n",
    "        d=d+a\n",
    "        df_grpd['Deceased_c'].iloc[i] = d\n",
    "        \n",
    "    return df_grpd, h, r, d"
   ]
  },
  {
   "cell_type": "code",
   "execution_count": 28,
   "metadata": {},
   "outputs": [],
   "source": [
    "def plot1(dg,col1,col2,col3,title):\n",
    "    fig,ax = plt.subplots(1,3,figsize=(15,8),sharey=True)\n",
    "    sns.barplot(dg['Gender'],dg[col1],ax=ax[0])\n",
    "    sns.barplot(dg['Gender'],dg[col2],ax=ax[1])\n",
    "    sns.barplot(dg['Gender'],dg[col3],ax=ax[2])\n",
    "    ax[0].yaxis.grid(which=\"major\")\n",
    "    ax[0].spines['top'].set_visible(False)\n",
    "    ax[0].spines['right'].set_visible(False)\n",
    "    for p in ax[0].patches:\n",
    "        ax[0].annotate(np.round(p.get_height(),decimals=2), (p.get_x()+p.get_width()/2., p.get_height()), ha='center', va='center')\n",
    "\n",
    "\n",
    "    ax[1].yaxis.grid(which=\"major\")\n",
    "    ax[1].spines['top'].set_visible(False)\n",
    "    ax[1].spines['right'].set_visible(False)\n",
    "    for p in ax[1].patches:\n",
    "        ax[1].annotate(np.round(p.get_height(),decimals=2), (p.get_x()+p.get_width()/2., p.get_height()), ha='center', va='center')\n",
    "\n",
    "\n",
    "    ax[2].yaxis.grid(which=\"major\")\n",
    "    ax[2].spines['top'].set_visible(False)\n",
    "    ax[2].spines['right'].set_visible(False)\n",
    "    for p in ax[2].patches:\n",
    "        ax[2].annotate(np.round(p.get_height(),decimals=2), (p.get_x()+p.get_width()/2., p.get_height()), ha='center', va='center')\n",
    "\n",
    "    fig.suptitle(title, fontsize=16)\n",
    "    plt.show()"
   ]
  },
  {
   "cell_type": "code",
   "execution_count": 8,
   "metadata": {},
   "outputs": [],
   "source": [
    "def plot2(df_slt,state,yscl):\n",
    "    figure = plt.subplots(1,1,figsize=(15,5))\n",
    "    sns.lineplot('Date Announced','Hospitalized_c',data=df_slt,marker='o')\n",
    "    sns.lineplot('Date Announced','Recovered_c',data=df_slt,marker='o')\n",
    "    sns.lineplot('Date Announced','Deceased_c',data=df_slt,marker='o')\n",
    "    plt.legend(['Hospitalised','Recovered','Deceased'])\n",
    "    plt.ylabel('# Cases')\n",
    "    plt.xlabel('Date')\n",
    "    plt.yscale(yscl)\n",
    "    plt.title(state)\n",
    "    plt.grid()\n",
    "    plt.show()"
   ]
  },
  {
   "cell_type": "code",
   "execution_count": 64,
   "metadata": {},
   "outputs": [],
   "source": [
    "def plot3(dg,title,normalise=False):\n",
    "    if normalise:\n",
    "        figure = plt.subplots(1,1,figsize=(15,5))\n",
    "        sns.lineplot('Age Group','Hospitalized_Norm',data=dg,marker='o')\n",
    "        sns.lineplot('Age Group','Recovered_Norm',data=dg,marker='o')\n",
    "        sns.lineplot('Age Group','Deceased_Norm',data=dg,marker='o')\n",
    "        plt.legend(['Hospitalised_n','Recovered_n','Deceased_n'])\n",
    "        plt.ylabel('% of Cases')\n",
    "        plt.xlabel('Age Group')\n",
    "        plt.title(title)\n",
    "        plt.grid()\n",
    "        plt.show()\n",
    "        \n",
    "    else:\n",
    "        figure = plt.subplots(1,1,figsize=(15,5))\n",
    "        sns.lineplot('Age Group','Hospitalized',data=dg,marker='o')\n",
    "        sns.lineplot('Age Group','Recovered',data=dg,marker='o')\n",
    "        sns.lineplot('Age Group','Deceased',data=dg,marker='o')\n",
    "        plt.legend(['Hospitalised','Recovered','Deceased'])\n",
    "        plt.ylabel('# of Cases')\n",
    "        plt.xlabel('Age Group')\n",
    "        plt.title(title)\n",
    "        plt.grid()\n",
    "        plt.show()    "
   ]
  },
  {
   "cell_type": "markdown",
   "metadata": {},
   "source": [
    "# Gender"
   ]
  },
  {
   "cell_type": "code",
   "execution_count": 9,
   "metadata": {},
   "outputs": [
    {
     "name": "stdout",
     "output_type": "stream",
     "text": [
      "Loading Data...\n",
      "\n",
      "Rows: 27891\n",
      "Columns: 20\n"
     ]
    }
   ],
   "source": [
    "df = ImportData()"
   ]
  },
  {
   "cell_type": "markdown",
   "metadata": {},
   "source": [
    "<B> Note: </B> The data used in this study is crowd sourced data. Even though the numbers matches up mostly to the official records there are certain discrepencies. <br> A majority of the Gender and Age cells are Null. I am assuming the data with values to be a Simple Random Sample (SRS) of the entire population. In this study, I am considering the population to be the people affected (Hospitalised/Recovered/Deceased).   "
   ]
  },
  {
   "cell_type": "code",
   "execution_count": 10,
   "metadata": {},
   "outputs": [
    {
     "name": "stdout",
     "output_type": "stream",
     "text": [
      "19.049% of Gender data is available.\n"
     ]
    }
   ],
   "source": [
    "x = round((df[df['Gender'].isnull()==False].shape[0]/df.shape[0] * 100),3)\n",
    "print('{}% of Gender data is available.'.format(x))"
   ]
  },
  {
   "cell_type": "code",
   "execution_count": 11,
   "metadata": {},
   "outputs": [
    {
     "name": "stdout",
     "output_type": "stream",
     "text": [
      "Null Data\n",
      "--------------------------------------------------\n",
      "Kerala \t\t\t\t62.687%\n",
      "Delhi \t\t\t\t98.492%\n",
      "Telangana \t\t\t\t96.603%\n",
      "Rajasthan \t\t\t\t98.719%\n",
      "Haryana \t\t\t\t95.27%\n",
      "Uttar Pradesh \t\t\t\t96.743%\n",
      "Ladakh \t\t\t\t70.0%\n",
      "Tamil Nadu \t\t\t\t46.26%\n",
      "Jammu and Kashmir \t\t\t\t97.514%\n",
      "Karnataka \t\t\t\t0.398%\n",
      "Maharashtra \t\t\t\t99.033%\n",
      "Punjab \t\t\t\t84.472%\n",
      "Andhra Pradesh \t\t\t\t61.987%\n",
      "Uttarakhand \t\t\t\t90.196%\n",
      "Odisha \t\t\t\t30.097%\n",
      "Puducherry \t\t\t\t50.0%\n",
      "West Bengal \t\t\t\t96.236%\n",
      "Chandigarh \t\t\t\t13.889%\n",
      "Chhattisgarh \t\t\t\t81.081%\n",
      "Gujarat \t\t\t\t26.234%\n",
      "Himachal Pradesh \t\t\t\t92.5%\n",
      "Madhya Pradesh \t\t\t\t98.804%\n",
      "Bihar \t\t\t\t9.386%\n",
      "Manipur \t\t\t\t50.0%\n",
      "Mizoram \t\t\t\t0.0%\n",
      "Goa \t\t\t\t14.286%\n",
      "Andaman and Nicobar Islands \t\t\t\t84.848%\n",
      "Jharkhand \t\t\t\t92.683%\n",
      "Assam \t\t\t\t94.444%\n",
      "Arunachal Pradesh \t\t\t\t100.0%\n",
      "Tripura \t\t\t\t50.0%\n",
      "Meghalaya \t\t\t\t91.667%\n"
     ]
    }
   ],
   "source": [
    "print('Null Data\\n'+'-'*50)\n",
    "for i in df[df['Detected State'].isnull()==False]['Detected State'].unique():\n",
    "    temp = df[df['Detected State']==i]\n",
    "    x = round((temp[temp['Gender'].isnull()==True].shape[0]/temp.shape[0] * 100),3)\n",
    "    print(i+' \\t\\t\\t\\t{}%'.format(x))"
   ]
  },
  {
   "cell_type": "code",
   "execution_count": 12,
   "metadata": {},
   "outputs": [
    {
     "name": "stdout",
     "output_type": "stream",
     "text": [
      "31 States & UT are having gender data.\n"
     ]
    }
   ],
   "source": [
    "print(str(len(df[df['Gender'].isnull()==False]['Detected State'].unique()))+' States & UT are having gender data.')"
   ]
  },
  {
   "cell_type": "markdown",
   "metadata": {},
   "source": [
    "Therefore, we can say that all the States and UTs are having some gender data and the sample is not biased towards any states."
   ]
  },
  {
   "cell_type": "code",
   "execution_count": 13,
   "metadata": {},
   "outputs": [
    {
     "data": {
      "text/plain": [
       "(5313, 20)"
      ]
     },
     "execution_count": 13,
     "metadata": {},
     "output_type": "execute_result"
    }
   ],
   "source": [
    "df = df[df['Gender'].isnull()==False]\n",
    "df.shape"
   ]
  },
  {
   "cell_type": "markdown",
   "metadata": {},
   "source": [
    "### What is the share of Male and Female in the confirmed cases?"
   ]
  },
  {
   "cell_type": "code",
   "execution_count": 16,
   "metadata": {},
   "outputs": [
    {
     "data": {
      "text/html": [
       "<div>\n",
       "<style scoped>\n",
       "    .dataframe tbody tr th:only-of-type {\n",
       "        vertical-align: middle;\n",
       "    }\n",
       "\n",
       "    .dataframe tbody tr th {\n",
       "        vertical-align: top;\n",
       "    }\n",
       "\n",
       "    .dataframe thead th {\n",
       "        text-align: right;\n",
       "    }\n",
       "</style>\n",
       "<table border=\"1\" class=\"dataframe\">\n",
       "  <thead>\n",
       "    <tr style=\"text-align: right;\">\n",
       "      <th></th>\n",
       "      <th>Gender</th>\n",
       "      <th>Deceased</th>\n",
       "      <th>Hospitalized</th>\n",
       "      <th>Recovered</th>\n",
       "    </tr>\n",
       "  </thead>\n",
       "  <tbody>\n",
       "    <tr>\n",
       "      <td>0</td>\n",
       "      <td>F</td>\n",
       "      <td>14</td>\n",
       "      <td>1713</td>\n",
       "      <td>39</td>\n",
       "    </tr>\n",
       "    <tr>\n",
       "      <td>1</td>\n",
       "      <td>M</td>\n",
       "      <td>30</td>\n",
       "      <td>3433</td>\n",
       "      <td>84</td>\n",
       "    </tr>\n",
       "  </tbody>\n",
       "</table>\n",
       "</div>"
      ],
      "text/plain": [
       "  Gender  Deceased  Hospitalized  Recovered\n",
       "0      F        14          1713         39\n",
       "1      M        30          3433         84"
      ]
     },
     "execution_count": 16,
     "metadata": {},
     "output_type": "execute_result"
    }
   ],
   "source": [
    "df['Hospitalized'] = np.where(df['Current Status']=='Hospitalized',1,0)\n",
    "df['Recovered'] = np.where(df['Current Status']=='Recovered',1,0)\n",
    "df['Deceased'] = np.where(df['Current Status']=='Deceased',1,0)\n",
    "\n",
    "dg = df.groupby('Gender').agg({'Deceased':'sum','Hospitalized':'sum','Recovered':'sum'}).reset_index()\n",
    "dg"
   ]
  },
  {
   "cell_type": "code",
   "execution_count": 17,
   "metadata": {},
   "outputs": [
    {
     "data": {
      "text/html": [
       "<div>\n",
       "<style scoped>\n",
       "    .dataframe tbody tr th:only-of-type {\n",
       "        vertical-align: middle;\n",
       "    }\n",
       "\n",
       "    .dataframe tbody tr th {\n",
       "        vertical-align: top;\n",
       "    }\n",
       "\n",
       "    .dataframe thead th {\n",
       "        text-align: right;\n",
       "    }\n",
       "</style>\n",
       "<table border=\"1\" class=\"dataframe\">\n",
       "  <thead>\n",
       "    <tr style=\"text-align: right;\">\n",
       "      <th></th>\n",
       "      <th>Gender</th>\n",
       "      <th>Deceased</th>\n",
       "      <th>Hospitalized</th>\n",
       "      <th>Recovered</th>\n",
       "      <th>Deceased_n</th>\n",
       "      <th>Hospitalized_n</th>\n",
       "      <th>Recovered_n</th>\n",
       "    </tr>\n",
       "  </thead>\n",
       "  <tbody>\n",
       "    <tr>\n",
       "      <td>0</td>\n",
       "      <td>F</td>\n",
       "      <td>14</td>\n",
       "      <td>1713</td>\n",
       "      <td>39</td>\n",
       "      <td>0.002635</td>\n",
       "      <td>0.322417</td>\n",
       "      <td>0.00734</td>\n",
       "    </tr>\n",
       "    <tr>\n",
       "      <td>1</td>\n",
       "      <td>M</td>\n",
       "      <td>30</td>\n",
       "      <td>3433</td>\n",
       "      <td>84</td>\n",
       "      <td>0.005647</td>\n",
       "      <td>0.646151</td>\n",
       "      <td>0.01581</td>\n",
       "    </tr>\n",
       "  </tbody>\n",
       "</table>\n",
       "</div>"
      ],
      "text/plain": [
       "  Gender  Deceased  Hospitalized  Recovered  Deceased_n  Hospitalized_n  \\\n",
       "0      F        14          1713         39    0.002635        0.322417   \n",
       "1      M        30          3433         84    0.005647        0.646151   \n",
       "\n",
       "   Recovered_n  \n",
       "0      0.00734  \n",
       "1      0.01581  "
      ]
     },
     "execution_count": 17,
     "metadata": {},
     "output_type": "execute_result"
    }
   ],
   "source": [
    "total = dg.Deceased.sum() + dg.Hospitalized.sum() + dg.Recovered.sum()\n",
    "dg['Deceased_n'] = dg.Deceased/total\n",
    "dg['Hospitalized_n'] = dg.Hospitalized/total\n",
    "dg['Recovered_n'] = dg.Recovered/total\n",
    "dg"
   ]
  },
  {
   "cell_type": "code",
   "execution_count": 29,
   "metadata": {},
   "outputs": [
    {
     "data": {
      "image/png": "[encoded data removed]",
      "text/plain": [
       "<Figure size 1080x576 with 3 Axes>"
      ]
     },
     "metadata": {
      "needs_background": "light"
     },
     "output_type": "display_data"
    }
   ],
   "source": [
    "plot1(dg,'Hospitalized','Recovered','Deceased','Absolute # of cases in each Male & Female sub-populations')"
   ]
  },
  {
   "cell_type": "code",
   "execution_count": 30,
   "metadata": {},
   "outputs": [
    {
     "data": {
      "image/png": "[encoded data removed]",
      "text/plain": [
       "<Figure size 1080x576 with 3 Axes>"
      ]
     },
     "metadata": {
      "needs_background": "light"
     },
     "output_type": "display_data"
    }
   ],
   "source": [
    "plot1(dg,'Hospitalized_n','Recovered_n','Deceased_n','Proportion of cases in each Male & Female sub-populations')"
   ]
  },
  {
   "cell_type": "markdown",
   "metadata": {},
   "source": [
    "### Growth in Different Genders"
   ]
  },
  {
   "cell_type": "code",
   "execution_count": 33,
   "metadata": {},
   "outputs": [
    {
     "name": "stdout",
     "output_type": "stream",
     "text": [
      "Number of Confirmed Cases -vs- Dates for Male and Female sub-populations\n",
      "Enter y-scale (linear/log): linear\n"
     ]
    },
    {
     "data": {
      "image/png": "[encoded data removed]",
      "text/plain": [
       "<Figure size 1080x360 with 1 Axes>"
      ]
     },
     "metadata": {
      "needs_background": "light"
     },
     "output_type": "display_data"
    },
    {
     "data": {
      "image/png": "[encoded data removed]",
      "text/plain": [
       "<Figure size 1080x360 with 1 Axes>"
      ]
     },
     "metadata": {
      "needs_background": "light"
     },
     "output_type": "display_data"
    }
   ],
   "source": [
    "df_grpd = FeatureEngineeringColumn(df,'Gender')\n",
    "print('Number of Confirmed Cases -vs- Dates for Male and Female sub-populations')\n",
    "yscl = input('Enter y-scale (linear/log): ')\n",
    "\n",
    "for i in df_grpd['Gender'].unique():\n",
    "    df_slt = ChooseColumn(df_grpd,'Gender',i)\n",
    "    df_slt, h, r, d = AccumulatorNormalised(df_slt)\n",
    "    \n",
    "    if(i=='F'):\n",
    "        df_slt = df_slt[1:]\n",
    "    \n",
    "    plot2(df_slt,i,yscl)"
   ]
  },
  {
   "cell_type": "markdown",
   "metadata": {},
   "source": [
    "<B>Observation:</B><br>\n",
    "The spread in the two sub-populations is visually equal to one another."
   ]
  },
  {
   "cell_type": "markdown",
   "metadata": {},
   "source": [
    "#### Statistical Inference"
   ]
  },
  {
   "cell_type": "markdown",
   "metadata": {},
   "source": [
    "<B>Question: </B> In the reported Male & Female patients infected by COVID-19 virus in India, what is the proportion of the total infected patients?\t<br>"
   ]
  },
  {
   "cell_type": "markdown",
   "metadata": {},
   "source": [
    "<I>Confidence Interval:</I>"
   ]
  },
  {
   "cell_type": "code",
   "execution_count": 18,
   "metadata": {},
   "outputs": [
    {
     "data": {
      "text/html": [
       "<div>\n",
       "<style scoped>\n",
       "    .dataframe tbody tr th:only-of-type {\n",
       "        vertical-align: middle;\n",
       "    }\n",
       "\n",
       "    .dataframe tbody tr th {\n",
       "        vertical-align: top;\n",
       "    }\n",
       "\n",
       "    .dataframe thead th {\n",
       "        text-align: right;\n",
       "    }\n",
       "</style>\n",
       "<table border=\"1\" class=\"dataframe\">\n",
       "  <thead>\n",
       "    <tr style=\"text-align: right;\">\n",
       "      <th></th>\n",
       "      <th>Gender</th>\n",
       "      <th>Deceased</th>\n",
       "      <th>Hospitalized</th>\n",
       "      <th>Recovered</th>\n",
       "      <th>Deceased_n</th>\n",
       "      <th>Hospitalized_n</th>\n",
       "      <th>Recovered_n</th>\n",
       "    </tr>\n",
       "  </thead>\n",
       "  <tbody>\n",
       "    <tr>\n",
       "      <td>0</td>\n",
       "      <td>F</td>\n",
       "      <td>14</td>\n",
       "      <td>1713</td>\n",
       "      <td>39</td>\n",
       "      <td>0.002635</td>\n",
       "      <td>0.322417</td>\n",
       "      <td>0.00734</td>\n",
       "    </tr>\n",
       "    <tr>\n",
       "      <td>1</td>\n",
       "      <td>M</td>\n",
       "      <td>30</td>\n",
       "      <td>3433</td>\n",
       "      <td>84</td>\n",
       "      <td>0.005647</td>\n",
       "      <td>0.646151</td>\n",
       "      <td>0.01581</td>\n",
       "    </tr>\n",
       "  </tbody>\n",
       "</table>\n",
       "</div>"
      ],
      "text/plain": [
       "  Gender  Deceased  Hospitalized  Recovered  Deceased_n  Hospitalized_n  \\\n",
       "0      F        14          1713         39    0.002635        0.322417   \n",
       "1      M        30          3433         84    0.005647        0.646151   \n",
       "\n",
       "   Recovered_n  \n",
       "0      0.00734  \n",
       "1      0.01581  "
      ]
     },
     "execution_count": 18,
     "metadata": {},
     "output_type": "execute_result"
    }
   ],
   "source": [
    "dg"
   ]
  },
  {
   "cell_type": "code",
   "execution_count": 19,
   "metadata": {},
   "outputs": [
    {
     "name": "stdout",
     "output_type": "stream",
     "text": [
      "Proportion: 0.32241671372106157\n",
      "Sample Size: 5313\n",
      "Standard Error: 0.006412394131736514\n",
      "Confidence Interval: (0.309848421222858,0.33498500621926514)\n"
     ]
    }
   ],
   "source": [
    "p = dg[dg['Gender']=='F']['Hospitalized_n'][0]\n",
    "n = dg.Deceased.sum() + dg.Hospitalized.sum() + dg.Recovered.sum()\n",
    "se = np.sqrt(p * (1 - p) / n)\n",
    "\n",
    "lcb = p - 1.96 *se \n",
    "ucb = p + 1.96 * se\n",
    "\n",
    "print('Proportion: {}\\nSample Size: {}\\nStandard Error: {}\\nConfidence Interval: ({},{})'.format(p,n,se,lcb,ucb))"
   ]
  },
  {
   "cell_type": "code",
   "execution_count": 20,
   "metadata": {},
   "outputs": [
    {
     "name": "stdout",
     "output_type": "stream",
     "text": [
      "Proportion: 0.6461509504987766\n",
      "Sample Size: 5313\n",
      "Standard Error: 0.0065600341841871935\n",
      "Confidence Interval: (0.6332932834977697,0.6590086174997835)\n"
     ]
    }
   ],
   "source": [
    "p = dg[dg['Gender']=='M']['Hospitalized_n'][1]\n",
    "n = dg.Deceased.sum() + dg.Hospitalized.sum() + dg.Recovered.sum()\n",
    "se = np.sqrt(p * (1 - p) / n)\n",
    "\n",
    "lcb = p - 1.96 *se \n",
    "ucb = p + 1.96 * se\n",
    "\n",
    "print('Proportion: {}\\nSample Size: {}\\nStandard Error: {}\\nConfidence Interval: ({},{})'.format(p,n,se,lcb,ucb))"
   ]
  },
  {
   "cell_type": "markdown",
   "metadata": {},
   "source": [
    "<B> Inference: </B><br> With 95% confidence, we can conclude from a sample of 5313 affected people that the population proportion of Female ranges from (30.98% to 33.49%) and that of Male ranges from (63.33% to 65.90%) in the overall population of confirmed patients."
   ]
  },
  {
   "cell_type": "markdown",
   "metadata": {},
   "source": [
    "<B>Question: </B> In the reported Male & Female patients infected by COVID-19 virus in India, Is there any difference in the proportion of the total <B>recovering</B> patients?\t\t<br>"
   ]
  },
  {
   "cell_type": "markdown",
   "metadata": {},
   "source": [
    "<I>Confidence Interval</I>"
   ]
  },
  {
   "cell_type": "code",
   "execution_count": 34,
   "metadata": {},
   "outputs": [
    {
     "data": {
      "text/html": [
       "<div>\n",
       "<style scoped>\n",
       "    .dataframe tbody tr th:only-of-type {\n",
       "        vertical-align: middle;\n",
       "    }\n",
       "\n",
       "    .dataframe tbody tr th {\n",
       "        vertical-align: top;\n",
       "    }\n",
       "\n",
       "    .dataframe thead th {\n",
       "        text-align: right;\n",
       "    }\n",
       "</style>\n",
       "<table border=\"1\" class=\"dataframe\">\n",
       "  <thead>\n",
       "    <tr style=\"text-align: right;\">\n",
       "      <th></th>\n",
       "      <th>Proportion</th>\n",
       "      <th>Total_n</th>\n",
       "    </tr>\n",
       "    <tr>\n",
       "      <th>Gender</th>\n",
       "      <th></th>\n",
       "      <th></th>\n",
       "    </tr>\n",
       "  </thead>\n",
       "  <tbody>\n",
       "    <tr>\n",
       "      <td>F</td>\n",
       "      <td>0.022084</td>\n",
       "      <td>1766</td>\n",
       "    </tr>\n",
       "    <tr>\n",
       "      <td>M</td>\n",
       "      <td>0.023682</td>\n",
       "      <td>3547</td>\n",
       "    </tr>\n",
       "  </tbody>\n",
       "</table>\n",
       "</div>"
      ],
      "text/plain": [
       "        Proportion  Total_n\n",
       "Gender                     \n",
       "F         0.022084     1766\n",
       "M         0.023682     3547"
      ]
     },
     "execution_count": 34,
     "metadata": {},
     "output_type": "execute_result"
    }
   ],
   "source": [
    "dz = df.groupby(df.Gender).agg({\"Current Status\": [lambda x: np.mean(x==\"Recovered\"), np.size]})\n",
    "dz.columns = [\"Proportion\", \"Total_n\"] # The default column names are unclear, so we replace them here\n",
    "dz"
   ]
  },
  {
   "cell_type": "code",
   "execution_count": 35,
   "metadata": {},
   "outputs": [
    {
     "name": "stdout",
     "output_type": "stream",
     "text": [
      "Sample Proportion of Male Recovery: 2.368%\n",
      "Sample Proportion of Female Recovery: 2.208%\n",
      "Sample Difference: 0.16%\n",
      "Standard Error: 0.433\n",
      "Confidence Interval of difference in Male&Female proportion of patients getting recovered: \n",
      "(-0.689%, 1.008%)\n"
     ]
    }
   ],
   "source": [
    "p = dz.Proportion.F\n",
    "n = dz.Total_n.F\n",
    "se_female = np.sqrt(p * (1 - p) / n)\n",
    "\n",
    "p = dz.Proportion.M\n",
    "n = dz.Total_n.M\n",
    "se_male = np.sqrt(p * (1 - p) / n)\n",
    "\n",
    "se_diff = np.sqrt(se_female**2 + se_male**2)\n",
    "\n",
    "m = dz.Proportion.M\n",
    "f = dz.Proportion.F\n",
    "d = m-f \n",
    "lcb = d - 1.96*se_diff\n",
    "ucb = d + 1.96*se_diff\n",
    "\n",
    "print('Sample Proportion of Male Recovery: {}%'.format(round(m*100,3)))\n",
    "print('Sample Proportion of Female Recovery: {}%'.format(round(f*100,3)))\n",
    "print('Sample Difference: {}%'.format(round(d*100,3)))\n",
    "print('Standard Error: {}'.format(round(se_diff*100,3)))\n",
    "print('Confidence Interval of difference in Male&Female proportion of patients getting recovered: \\n({}%, {}%)'.format(round(lcb*100,3),round(ucb*100,3)))"
   ]
  },
  {
   "cell_type": "markdown",
   "metadata": {},
   "source": [
    "<B> Inference: </B><br>\n",
    "Considering all parameters same if we repeat this statistics procedure we can conclude that 95 times out of 100 times, the difference in the proportion of recovery in Male and Female ranges between (-0.689 to 1.008) which is also inclusive of Zero suggesting there might be no difference in the propotion."
   ]
  },
  {
   "cell_type": "markdown",
   "metadata": {},
   "source": [
    "<I> Hypothesis Testing </I>"
   ]
  },
  {
   "cell_type": "markdown",
   "metadata": {},
   "source": [
    "<B>H<sub>0</sub>:</B> p<sub>m</sub>-p<sub>f</sub> = 0 <br>\n",
    "<B>H<sub>a</sub>:</B> p<sub>m</sub>-p<sub>f</sub> &ne; 0 <br><br>\n",
    "&emsp;&emsp;&emsp;&emsp;&emsp; where,  p<sub>m</sub> = Proportion of Male recovering <br> &emsp;&emsp;&emsp;&emsp;&emsp;&emsp;&emsp;&emsp;&ensp; p<sub>f</sub> = Proportion of Female recovering"
   ]
  },
  {
   "cell_type": "code",
   "execution_count": 36,
   "metadata": {},
   "outputs": [
    {
     "name": "stdout",
     "output_type": "stream",
     "text": [
      "82.11575381140598 3464.8842461885943 40.88424618859401 1725.115753811406\n"
     ]
    }
   ],
   "source": [
    "p_hat = df[df['Current Status']=='Recovered'].shape[0]/df.shape[0]\n",
    "p_hat\n",
    "\n",
    "n1 = df[df['Gender']=='M'].shape[0]\n",
    "n2 = df[df['Gender']=='F'].shape[0]\n",
    "\n",
    "print(n1*p_hat,n1*(1-p_hat),n2*p_hat,n2*(1-p_hat))\n"
   ]
  },
  {
   "cell_type": "markdown",
   "metadata": {},
   "source": [
    "Since, all these samples are greater than 10 we can invoke CLT and assume normality"
   ]
  },
  {
   "cell_type": "code",
   "execution_count": 37,
   "metadata": {},
   "outputs": [],
   "source": [
    "import statsmodels.api as sm\n",
    "\n",
    "dx_females = df.loc[df.Gender==\"F\", 'Current Status'].replace({\"Recovered\": 1, \"Hospitalized\": 0, \"Deceased\":0})\n",
    "dx_males = df.loc[df.Gender==\"M\", 'Current Status'].replace({\"Recovered\": 1, \"Hospitalized\": 0, \"Deceased\":0})\n",
    "t_stat, p_value, dof = sm.stats.ttest_ind(dx_females, dx_males) # prints test statistic, p-value, degrees of freedom`"
   ]
  },
  {
   "cell_type": "code",
   "execution_count": 38,
   "metadata": {},
   "outputs": [
    {
     "name": "stdout",
     "output_type": "stream",
     "text": [
      "t statistics: -0.3648454008216443\n",
      "p-value: 0.7152413394642001\n"
     ]
    }
   ],
   "source": [
    "print('t statistics: {}'.format(t_stat))\n",
    "print('p-value: {}'.format(p_value))"
   ]
  },
  {
   "cell_type": "markdown",
   "metadata": {},
   "source": [
    "<B> Inference: </B><br>\n",
    "Taking a significance level of &alpha; = 0.05, we see that p-value > &alpha;. Therefore, we do not have sufficient evidence to reject the <B>H<sub>0</sub>:</B> p<sub>m</sub>-p<sub>f</sub> = 0 <br> \n",
    "We cannot reject the hypothesis that there is no difference in the proportion of recovery in Male and Female patients."
   ]
  },
  {
   "cell_type": "markdown",
   "metadata": {},
   "source": [
    "<B>Question: </B> In the reported Male & Female patients infected by COVID-19 virus in India, Is there any difference in the proportion of the total patients who are <B>dying</B>?\t\t<br>"
   ]
  },
  {
   "cell_type": "markdown",
   "metadata": {},
   "source": [
    "<I>Confidence Interval</I>"
   ]
  },
  {
   "cell_type": "code",
   "execution_count": 39,
   "metadata": {},
   "outputs": [
    {
     "data": {
      "text/html": [
       "<div>\n",
       "<style scoped>\n",
       "    .dataframe tbody tr th:only-of-type {\n",
       "        vertical-align: middle;\n",
       "    }\n",
       "\n",
       "    .dataframe tbody tr th {\n",
       "        vertical-align: top;\n",
       "    }\n",
       "\n",
       "    .dataframe thead th {\n",
       "        text-align: right;\n",
       "    }\n",
       "</style>\n",
       "<table border=\"1\" class=\"dataframe\">\n",
       "  <thead>\n",
       "    <tr style=\"text-align: right;\">\n",
       "      <th></th>\n",
       "      <th>Proportion</th>\n",
       "      <th>Total_n</th>\n",
       "    </tr>\n",
       "    <tr>\n",
       "      <th>Gender</th>\n",
       "      <th></th>\n",
       "      <th></th>\n",
       "    </tr>\n",
       "  </thead>\n",
       "  <tbody>\n",
       "    <tr>\n",
       "      <td>F</td>\n",
       "      <td>0.007928</td>\n",
       "      <td>1766</td>\n",
       "    </tr>\n",
       "    <tr>\n",
       "      <td>M</td>\n",
       "      <td>0.008458</td>\n",
       "      <td>3547</td>\n",
       "    </tr>\n",
       "  </tbody>\n",
       "</table>\n",
       "</div>"
      ],
      "text/plain": [
       "        Proportion  Total_n\n",
       "Gender                     \n",
       "F         0.007928     1766\n",
       "M         0.008458     3547"
      ]
     },
     "execution_count": 39,
     "metadata": {},
     "output_type": "execute_result"
    }
   ],
   "source": [
    "dz = df.groupby(df.Gender).agg({\"Current Status\": [lambda x: np.mean(x==\"Deceased\"), np.size]})\n",
    "dz.columns = [\"Proportion\", \"Total_n\"] # The default column names are unclear, so we replace them here\n",
    "dz"
   ]
  },
  {
   "cell_type": "code",
   "execution_count": 40,
   "metadata": {},
   "outputs": [
    {
     "name": "stdout",
     "output_type": "stream",
     "text": [
      "Sample Proportion of Male Recovery: 0.846%\n",
      "Sample Proportion of Female Recovery: 0.793%\n",
      "Sample Difference: 0.053%\n",
      "Standard Error: 0.261\n",
      "Confidence Interval of difference in Male&Female proportion of patients getting Losing Life: \n",
      "(-0.459%, 0.565%)\n"
     ]
    }
   ],
   "source": [
    "p = dz.Proportion.F\n",
    "n = dz.Total_n.F\n",
    "se_female = np.sqrt(p * (1 - p) / n)\n",
    "\n",
    "p = dz.Proportion.M\n",
    "n = dz.Total_n.M\n",
    "se_male = np.sqrt(p * (1 - p) / n)\n",
    "\n",
    "se_diff = np.sqrt(se_female**2 + se_male**2)\n",
    "\n",
    "m = dz.Proportion.M\n",
    "f = dz.Proportion.F\n",
    "d = m-f \n",
    "lcb = d - 1.96*se_diff\n",
    "ucb = d + 1.96*se_diff\n",
    "\n",
    "print('Sample Proportion of Male Recovery: {}%'.format(round(m*100,3)))\n",
    "print('Sample Proportion of Female Recovery: {}%'.format(round(f*100,3)))\n",
    "print('Sample Difference: {}%'.format(round(d*100,3)))\n",
    "print('Standard Error: {}'.format(round(se_diff*100,3)))\n",
    "print('Confidence Interval of difference in Male&Female proportion of patients getting Losing Life: \\n({}%, {}%)'.format(round(lcb*100,3),round(ucb*100,3)))"
   ]
  },
  {
   "cell_type": "markdown",
   "metadata": {},
   "source": [
    "<B> Inference: </B><br>\n",
    "Considering all parameters same if we repeat this statistics procedure we can conclude that 95 times out of 100 times, the difference in the proportion of deaths in Male and Female ranges between (-0.459% to 0.565%) which is also inclusive of Zero suggesting there might be no difference in the propotion."
   ]
  },
  {
   "cell_type": "markdown",
   "metadata": {},
   "source": [
    "<I> Hypothesis Testing </I>"
   ]
  },
  {
   "cell_type": "markdown",
   "metadata": {},
   "source": [
    "<B>H<sub>0</sub>:</B> p<sub>m</sub>-p<sub>f</sub> = 0 <br>\n",
    "<B>H<sub>a</sub>:</B> p<sub>m</sub>-p<sub>f</sub> &ne; 0 <br><br>\n",
    "&emsp;&emsp;&emsp;&emsp;&emsp; where,  p<sub>m</sub> = Proportion of Male patients losing life <br> &emsp;&emsp;&emsp;&emsp;&emsp;&emsp;&emsp;&emsp;&ensp; p<sub>f</sub> = Proportion of Female patients losing life"
   ]
  },
  {
   "cell_type": "code",
   "execution_count": 41,
   "metadata": {},
   "outputs": [
    {
     "name": "stdout",
     "output_type": "stream",
     "text": [
      "29.374741200828158 3517.6252587991717 14.625258799171844 1751.374741200828\n"
     ]
    }
   ],
   "source": [
    "p_hat = df[df['Current Status']=='Deceased'].shape[0]/df.shape[0]\n",
    "p_hat\n",
    "\n",
    "n1 = df[df['Gender']=='M'].shape[0]\n",
    "n2 = df[df['Gender']=='F'].shape[0]\n",
    "\n",
    "print(n1*p_hat,n1*(1-p_hat),n2*p_hat,n2*(1-p_hat))\n"
   ]
  },
  {
   "cell_type": "markdown",
   "metadata": {},
   "source": [
    "Since, all these samples are greater than 10 we can invoke CLT and assume normality"
   ]
  },
  {
   "cell_type": "code",
   "execution_count": 42,
   "metadata": {},
   "outputs": [],
   "source": [
    "import statsmodels.api as sm\n",
    "\n",
    "dx_females = df.loc[df.Gender==\"F\", 'Current Status'].replace({\"Recovered\": 0, \"Hospitalized\": 0, \"Deceased\":1})\n",
    "dx_males = df.loc[df.Gender==\"M\", 'Current Status'].replace({\"Recovered\": 0, \"Hospitalized\": 0, \"Deceased\":1})\n",
    "t_stat, p_value, dof = sm.stats.ttest_ind(dx_females, dx_males) # prints test statistic, p-value, degrees of freedom`"
   ]
  },
  {
   "cell_type": "code",
   "execution_count": 43,
   "metadata": {},
   "outputs": [
    {
     "name": "stdout",
     "output_type": "stream",
     "text": [
      "t statistics: -0.20089681317178099\n",
      "p-value: 0.840786952459463\n"
     ]
    }
   ],
   "source": [
    "print('t statistics: {}'.format(t_stat))\n",
    "print('p-value: {}'.format(p_value))"
   ]
  },
  {
   "cell_type": "markdown",
   "metadata": {},
   "source": [
    "<B> Inference: </B><br>\n",
    "Taking a significance level of &alpha; = 0.05, we see that p-value > &alpha;. Therefore, we do not have sufficient evidence to reject the <B>H<sub>0</sub>:</B> p<sub>m</sub>-p<sub>f</sub> = 0 <br> \n",
    "We cannot reject the hypothesis that there is no difference in the proportion of deaths in Male and Female patients."
   ]
  },
  {
   "cell_type": "markdown",
   "metadata": {},
   "source": [
    "# Age Group"
   ]
  },
  {
   "cell_type": "code",
   "execution_count": 44,
   "metadata": {},
   "outputs": [
    {
     "name": "stdout",
     "output_type": "stream",
     "text": [
      "Loading Data...\n",
      "\n",
      "Rows: 27891\n",
      "Columns: 20\n"
     ]
    }
   ],
   "source": [
    "df = ImportData()"
   ]
  },
  {
   "cell_type": "code",
   "execution_count": 45,
   "metadata": {},
   "outputs": [],
   "source": [
    "df['Age Bracket'] = np.where(df['Age Bracket']=='28-35','32',df['Age Bracket'])\n",
    "df['Age'] = df['Age Bracket'].astype('float')"
   ]
  },
  {
   "cell_type": "markdown",
   "metadata": {},
   "source": [
    "Let's take a quick look at our data if it has sufficient samples, does or does not suffer from any biases and if it is normally distributed or not"
   ]
  },
  {
   "cell_type": "code",
   "execution_count": 51,
   "metadata": {},
   "outputs": [
    {
     "name": "stdout",
     "output_type": "stream",
     "text": [
      "8.411% of Age data is available.\n",
      "2346 records are present.\n"
     ]
    }
   ],
   "source": [
    "x = round((df[df['Age'].isnull()==False].shape[0]/df.shape[0] * 100),3)\n",
    "print('{}% of Age data is available.'.format(x))\n",
    "n = df[df['Age'].isnull()==False].shape[0]\n",
    "print('{} records are present.'.format(n))"
   ]
  },
  {
   "cell_type": "code",
   "execution_count": 47,
   "metadata": {},
   "outputs": [
    {
     "name": "stdout",
     "output_type": "stream",
     "text": [
      "Null Data\n",
      "--------------------------------------------------\n",
      "Kerala \t\t\t\t60.128%\n",
      "Delhi \t\t\t\t99.554%\n",
      "Telangana \t\t\t\t96.703%\n",
      "Rajasthan \t\t\t\t98.902%\n",
      "Haryana \t\t\t\t92.23%\n",
      "Uttar Pradesh \t\t\t\t97.597%\n",
      "Ladakh \t\t\t\t85.0%\n",
      "Tamil Nadu \t\t\t\t77.719%\n",
      "Jammu and Kashmir \t\t\t\t97.514%\n",
      "Karnataka \t\t\t\t0.398%\n",
      "Maharashtra \t\t\t\t99.256%\n",
      "Punjab \t\t\t\t88.199%\n",
      "Andhra Pradesh \t\t\t\t62.261%\n",
      "Uttarakhand \t\t\t\t92.157%\n",
      "Odisha \t\t\t\t31.068%\n",
      "Puducherry \t\t\t\t25.0%\n",
      "West Bengal \t\t\t\t95.745%\n",
      "Chandigarh \t\t\t\t41.667%\n",
      "Chhattisgarh \t\t\t\t83.784%\n",
      "Gujarat \t\t\t\t95.547%\n",
      "Himachal Pradesh \t\t\t\t92.5%\n",
      "Madhya Pradesh \t\t\t\t98.995%\n",
      "Bihar \t\t\t\t9.386%\n",
      "Manipur \t\t\t\t50.0%\n",
      "Mizoram \t\t\t\t0.0%\n",
      "Goa \t\t\t\t14.286%\n",
      "Andaman and Nicobar Islands \t\t\t\t90.909%\n",
      "Jharkhand \t\t\t\t97.561%\n",
      "Assam \t\t\t\t97.222%\n",
      "Arunachal Pradesh \t\t\t\t100.0%\n",
      "Tripura \t\t\t\t50.0%\n",
      "Meghalaya \t\t\t\t91.667%\n"
     ]
    }
   ],
   "source": [
    "print('Null Data\\n'+'-'*50)\n",
    "for i in df[df['Detected State'].isnull()==False]['Detected State'].unique():\n",
    "    temp = df[df['Detected State']==i]\n",
    "    x = round((temp[temp['Age'].isnull()==True].shape[0]/temp.shape[0] * 100),3)\n",
    "    print(i+' \\t\\t\\t\\t{}%'.format(x))"
   ]
  },
  {
   "cell_type": "code",
   "execution_count": 48,
   "metadata": {},
   "outputs": [
    {
     "name": "stdout",
     "output_type": "stream",
     "text": [
      "31 States & UT are having age data.\n"
     ]
    }
   ],
   "source": [
    "print(str(len(df[df['Age'].isnull()==False]['Detected State'].unique()))+' States & UT are having age data.')"
   ]
  },
  {
   "cell_type": "code",
   "execution_count": 188,
   "metadata": {},
   "outputs": [
    {
     "data": {
      "image/png": "[encoded data removed]",
      "text/plain": [
       "<Figure size 1080x576 with 1 Axes>"
      ]
     },
     "metadata": {
      "needs_background": "light"
     },
     "output_type": "display_data"
    }
   ],
   "source": [
    "figure,ax = plt.subplots(1,1,figsize=(15,8))\n",
    "sns.distplot(df['Age'].dropna())\n",
    "plt.show()"
   ]
  },
  {
   "cell_type": "markdown",
   "metadata": {},
   "source": [
    "<B> Observation:</B><br>\n",
    "The distribution of Age is slightly skewed to the right, but considering the number of sample we can assume normality and invoke CLT."
   ]
  },
  {
   "cell_type": "markdown",
   "metadata": {},
   "source": [
    "<B>Conclusion:</B>\n",
    "1. Not biased by missing out on specific Indian State.\n",
    "2. Okay to assume normally distributed.\n",
    "3. Sufficient Sample Size."
   ]
  },
  {
   "cell_type": "code",
   "execution_count": 52,
   "metadata": {},
   "outputs": [],
   "source": [
    "df['Hospitalized'] = np.where(df['Current Status']=='Hospitalized',1,0)\n",
    "df['Recovered'] = np.where(df['Current Status']=='Recovered',1,0)\n",
    "df['Deceased'] = np.where(df['Current Status']=='Deceased',1,0)"
   ]
  },
  {
   "cell_type": "code",
   "execution_count": 53,
   "metadata": {},
   "outputs": [
    {
     "name": "stdout",
     "output_type": "stream",
     "text": [
      "---Mean Age--- \n",
      "Hospitalised: 37.91285583103765\n",
      "Recovered: 40.733870967741936\n",
      "Deceased: 60.06818181818182\n"
     ]
    }
   ],
   "source": [
    "a = df[df['Hospitalized']==1].Age.mean()\n",
    "b = df[df['Deceased']==1].Age.mean()\n",
    "c = df[df['Recovered']==1].Age.mean()\n",
    "\n",
    "print('---Mean Age--- \\nHospitalised: {}\\nRecovered: {}\\nDeceased: {}'.format(a,c,b))"
   ]
  },
  {
   "cell_type": "code",
   "execution_count": 54,
   "metadata": {},
   "outputs": [
    {
     "name": "stdout",
     "output_type": "stream",
     "text": [
      "---Median Age--- \n",
      "Hospitalised: 36.0\n",
      "Recovered: 38.0\n",
      "Deceased: 65.0\n"
     ]
    }
   ],
   "source": [
    "a = df[df['Hospitalized']==1].Age.median()\n",
    "b = df[df['Deceased']==1].Age.median()\n",
    "c = df[df['Recovered']==1].Age.median()\n",
    "\n",
    "print('---Median Age--- \\nHospitalised: {}\\nRecovered: {}\\nDeceased: {}'.format(a,c,b))"
   ]
  },
  {
   "cell_type": "markdown",
   "metadata": {},
   "source": [
    "Mean > Median because there are ages with slightly higher values. "
   ]
  },
  {
   "cell_type": "code",
   "execution_count": 55,
   "metadata": {},
   "outputs": [],
   "source": [
    "df['Age Group'] = pd.cut(df['Age'],[0,18, 30, 40, 50, 60, 70, 80])\n",
    "df.drop(columns=['Age Bracket'],inplace=True)"
   ]
  },
  {
   "cell_type": "code",
   "execution_count": 56,
   "metadata": {},
   "outputs": [
    {
     "data": {
      "text/html": [
       "<div>\n",
       "<style scoped>\n",
       "    .dataframe tbody tr th:only-of-type {\n",
       "        vertical-align: middle;\n",
       "    }\n",
       "\n",
       "    .dataframe tbody tr th {\n",
       "        vertical-align: top;\n",
       "    }\n",
       "\n",
       "    .dataframe thead th {\n",
       "        text-align: right;\n",
       "    }\n",
       "</style>\n",
       "<table border=\"1\" class=\"dataframe\">\n",
       "  <thead>\n",
       "    <tr style=\"text-align: right;\">\n",
       "      <th></th>\n",
       "      <th>Age Group</th>\n",
       "      <th>Deceased</th>\n",
       "      <th>Hospitalized</th>\n",
       "      <th>Recovered</th>\n",
       "    </tr>\n",
       "  </thead>\n",
       "  <tbody>\n",
       "    <tr>\n",
       "      <td>0</td>\n",
       "      <td>(0, 18]</td>\n",
       "      <td>1</td>\n",
       "      <td>244</td>\n",
       "      <td>8</td>\n",
       "    </tr>\n",
       "    <tr>\n",
       "      <td>1</td>\n",
       "      <td>(18, 30]</td>\n",
       "      <td>1</td>\n",
       "      <td>550</td>\n",
       "      <td>34</td>\n",
       "    </tr>\n",
       "    <tr>\n",
       "      <td>2</td>\n",
       "      <td>(30, 40]</td>\n",
       "      <td>2</td>\n",
       "      <td>514</td>\n",
       "      <td>25</td>\n",
       "    </tr>\n",
       "    <tr>\n",
       "      <td>3</td>\n",
       "      <td>(40, 50]</td>\n",
       "      <td>8</td>\n",
       "      <td>360</td>\n",
       "      <td>15</td>\n",
       "    </tr>\n",
       "    <tr>\n",
       "      <td>4</td>\n",
       "      <td>(50, 60]</td>\n",
       "      <td>5</td>\n",
       "      <td>278</td>\n",
       "      <td>23</td>\n",
       "    </tr>\n",
       "    <tr>\n",
       "      <td>5</td>\n",
       "      <td>(60, 70]</td>\n",
       "      <td>17</td>\n",
       "      <td>172</td>\n",
       "      <td>15</td>\n",
       "    </tr>\n",
       "    <tr>\n",
       "      <td>6</td>\n",
       "      <td>(70, 80]</td>\n",
       "      <td>9</td>\n",
       "      <td>51</td>\n",
       "      <td>1</td>\n",
       "    </tr>\n",
       "  </tbody>\n",
       "</table>\n",
       "</div>"
      ],
      "text/plain": [
       "  Age Group  Deceased  Hospitalized  Recovered\n",
       "0   (0, 18]         1           244          8\n",
       "1  (18, 30]         1           550         34\n",
       "2  (30, 40]         2           514         25\n",
       "3  (40, 50]         8           360         15\n",
       "4  (50, 60]         5           278         23\n",
       "5  (60, 70]        17           172         15\n",
       "6  (70, 80]         9            51          1"
      ]
     },
     "execution_count": 56,
     "metadata": {},
     "output_type": "execute_result"
    }
   ],
   "source": [
    "dg = df.groupby('Age Group').agg({'Deceased':'sum','Hospitalized':'sum','Recovered':'sum'}).reset_index()\n",
    "dg"
   ]
  },
  {
   "cell_type": "code",
   "execution_count": 57,
   "metadata": {},
   "outputs": [],
   "source": [
    "dg['Hospitalized_Norm'] = dg['Hospitalized']/dg['Hospitalized'].sum()\n",
    "dg['Recovered_Norm'] = dg['Recovered']/dg['Recovered'].sum()\n",
    "dg['Deceased_Norm'] = dg['Deceased']/dg['Deceased'].sum()\n",
    "dg['Age Group'] = dg['Age Group'].astype(str)"
   ]
  },
  {
   "cell_type": "code",
   "execution_count": 65,
   "metadata": {},
   "outputs": [
    {
     "data": {
      "image/png": "[encoded data removed]",
      "text/plain": [
       "<Figure size 1080x360 with 1 Axes>"
      ]
     },
     "metadata": {
      "needs_background": "light"
     },
     "output_type": "display_data"
    },
    {
     "data": {
      "image/png": "[encoded data removed]",
      "text/plain": [
       "<Figure size 1080x360 with 1 Axes>"
      ]
     },
     "metadata": {
      "needs_background": "light"
     },
     "output_type": "display_data"
    }
   ],
   "source": [
    "plot3(dg,'Actual #Cases per Age Group')\n",
    "plot3(dg,'Normalised #Cases per Age Group',normalise=True)"
   ]
  },
  {
   "cell_type": "markdown",
   "metadata": {},
   "source": [
    "<B> Observations: </B>\n",
    "1. It is visually evident the total # of confirmed cases goes down with the age. And the # of Deaths increase with the increase in age, which may be infered visually from the drop in # of Recovery with age.\n",
    "2. It is a point to consider that the # of Deaths spiked for the Age Group (40,50] with a corresponding drop in recovery for the same age group."
   ]
  },
  {
   "cell_type": "code",
   "execution_count": 66,
   "metadata": {},
   "outputs": [
    {
     "data": {
      "text/html": [
       "<div>\n",
       "<style scoped>\n",
       "    .dataframe tbody tr th:only-of-type {\n",
       "        vertical-align: middle;\n",
       "    }\n",
       "\n",
       "    .dataframe tbody tr th {\n",
       "        vertical-align: top;\n",
       "    }\n",
       "\n",
       "    .dataframe thead th {\n",
       "        text-align: right;\n",
       "    }\n",
       "</style>\n",
       "<table border=\"1\" class=\"dataframe\">\n",
       "  <thead>\n",
       "    <tr style=\"text-align: right;\">\n",
       "      <th></th>\n",
       "      <th>Age Group</th>\n",
       "      <th>Deceased</th>\n",
       "      <th>Hospitalized</th>\n",
       "      <th>Recovered</th>\n",
       "    </tr>\n",
       "  </thead>\n",
       "  <tbody>\n",
       "    <tr>\n",
       "      <td>0</td>\n",
       "      <td>(0, 18]</td>\n",
       "      <td>1</td>\n",
       "      <td>244</td>\n",
       "      <td>8</td>\n",
       "    </tr>\n",
       "    <tr>\n",
       "      <td>1</td>\n",
       "      <td>(18, 60]</td>\n",
       "      <td>16</td>\n",
       "      <td>1702</td>\n",
       "      <td>97</td>\n",
       "    </tr>\n",
       "    <tr>\n",
       "      <td>2</td>\n",
       "      <td>(60, 90]</td>\n",
       "      <td>27</td>\n",
       "      <td>230</td>\n",
       "      <td>18</td>\n",
       "    </tr>\n",
       "  </tbody>\n",
       "</table>\n",
       "</div>"
      ],
      "text/plain": [
       "  Age Group  Deceased  Hospitalized  Recovered\n",
       "0   (0, 18]         1           244          8\n",
       "1  (18, 60]        16          1702         97\n",
       "2  (60, 90]        27           230         18"
      ]
     },
     "execution_count": 66,
     "metadata": {},
     "output_type": "execute_result"
    }
   ],
   "source": [
    "df['Age Group'] = pd.cut(df['Age'],[0,18,60,90])\n",
    "\n",
    "dg = df.groupby('Age Group').agg({'Deceased':'sum','Hospitalized':'sum','Recovered':'sum'}).reset_index()\n",
    "dg"
   ]
  },
  {
   "cell_type": "code",
   "execution_count": 67,
   "metadata": {},
   "outputs": [],
   "source": [
    "df_grpd = df.groupby(['Date Announced','Age Group']).agg({'Hospitalized': 'sum', 'Recovered':'sum', 'Deceased':'sum'}).reset_index()\n",
    "\n",
    "df_grpd['Date Announced'] = pd.to_datetime(df_grpd['Date Announced'],format='%d/%m/%Y')\n",
    "df_grpd.sort_values(by='Date Announced',inplace=True)"
   ]
  },
  {
   "cell_type": "code",
   "execution_count": 68,
   "metadata": {},
   "outputs": [],
   "source": [
    "df_grpd['Hospitalized'] = np.where(df_grpd['Hospitalized'].isnull()==True,0,df_grpd['Hospitalized'])\n",
    "df_grpd['Recovered'] = np.where(df_grpd['Recovered'].isnull()==True,0,df_grpd['Recovered'])\n",
    "df_grpd['Deceased'] = np.where(df_grpd['Deceased'].isnull()==True,0,df_grpd['Deceased'])"
   ]
  },
  {
   "cell_type": "code",
   "execution_count": 70,
   "metadata": {},
   "outputs": [
    {
     "data": {
      "image/png": "[encoded data removed]",
      "text/plain": [
       "<Figure size 1080x576 with 1 Axes>"
      ]
     },
     "metadata": {
      "needs_background": "light"
     },
     "output_type": "display_data"
    }
   ],
   "source": [
    "fig,ax = plt.subplots(1,1,figsize=(15,8))\n",
    "j=0\n",
    "for i in df_grpd['Age Group'].unique():\n",
    "    df_slt = df_grpd[df_grpd['Age Group']==i]\n",
    "    df_slt,h,r,d = AccumulatorNormalised(df_slt)\n",
    "    sns.lineplot(df_slt['Date Announced'],df_slt['Hospitalized_c']/h,marker='o')\n",
    "    plt.legend(df_grpd['Age Group'].unique().astype(str))\n",
    "    j=j+1\n",
    "    \n",
    "plt.title('% of Case -vs- Dates for different age groups')    \n",
    "plt.grid()\n",
    "plt.show()"
   ]
  },
  {
   "cell_type": "markdown",
   "metadata": {},
   "source": [
    "<B> Observations: </B><br>\n",
    "1. After lockdown say 2020-04-01 the detected Propotion patients belonging to age group (60,90] increased indicating spread within families living together.\n",
    "2. If we look before 2020-03-15, the proportion of confirmed patients belonging to age group (60,90] were higher mostly because of spread within families having infected patients returning to India. \n",
    "2. However, younger age group (0,18] remains lowest of proportion due to overall better immunity to the infections."
   ]
  },
  {
   "cell_type": "markdown",
   "metadata": {},
   "source": [
    "<B> Statistical Inferences </B>"
   ]
  },
  {
   "cell_type": "markdown",
   "metadata": {},
   "source": [
    "<B> Question: </B> In the reported confirmed patients <i>below and above age 60</i> infected by COVID-19 virus in India, Is there any difference in the Proportion of Recovery?"
   ]
  },
  {
   "cell_type": "markdown",
   "metadata": {},
   "source": [
    "<I> Confidence Interval </I>"
   ]
  },
  {
   "cell_type": "code",
   "execution_count": 71,
   "metadata": {},
   "outputs": [
    {
     "data": {
      "text/html": [
       "<div>\n",
       "<style scoped>\n",
       "    .dataframe tbody tr th:only-of-type {\n",
       "        vertical-align: middle;\n",
       "    }\n",
       "\n",
       "    .dataframe tbody tr th {\n",
       "        vertical-align: top;\n",
       "    }\n",
       "\n",
       "    .dataframe thead th {\n",
       "        text-align: right;\n",
       "    }\n",
       "</style>\n",
       "<table border=\"1\" class=\"dataframe\">\n",
       "  <thead>\n",
       "    <tr style=\"text-align: right;\">\n",
       "      <th></th>\n",
       "      <th>Age Group</th>\n",
       "      <th>Proportion</th>\n",
       "      <th>Total_n</th>\n",
       "    </tr>\n",
       "  </thead>\n",
       "  <tbody>\n",
       "    <tr>\n",
       "      <td>0</td>\n",
       "      <td>(0, 60]</td>\n",
       "      <td>0.050774</td>\n",
       "      <td>2068</td>\n",
       "    </tr>\n",
       "    <tr>\n",
       "      <td>1</td>\n",
       "      <td>(60, 90]</td>\n",
       "      <td>0.065455</td>\n",
       "      <td>275</td>\n",
       "    </tr>\n",
       "  </tbody>\n",
       "</table>\n",
       "</div>"
      ],
      "text/plain": [
       "  Age Group  Proportion  Total_n\n",
       "0   (0, 60]    0.050774     2068\n",
       "1  (60, 90]    0.065455      275"
      ]
     },
     "execution_count": 71,
     "metadata": {},
     "output_type": "execute_result"
    }
   ],
   "source": [
    "df['Age Group'] = pd.cut(df['Age'],[0,60,90])\n",
    "dz = df.groupby(['Age Group']).agg({\"Current Status\": [lambda x: np.mean(x==\"Recovered\"), np.size]})\n",
    "dz.columns = [\"Proportion\", \"Total_n\"] # The default column names are unclear, so we replace them here\n",
    "dz.reset_index(inplace=True)\n",
    "dz"
   ]
  },
  {
   "cell_type": "code",
   "execution_count": 73,
   "metadata": {},
   "outputs": [
    {
     "name": "stdout",
     "output_type": "stream",
     "text": [
      "Sample Proportion of Recovery in (0,60] : 5.077%\n",
      "Sample Proportion of Recovery in (60,90] 6.545%\n",
      "Sample Difference: -1.468%\n",
      "Standard Error: 1.568\n",
      "Confidence Interval of difference in proportion of recovery of patients above & below 60yrs: \n",
      "(-4.541%, 1.604%)\n"
     ]
    }
   ],
   "source": [
    "p = dz.iloc[0]['Proportion']\n",
    "n = dz.iloc[0]['Total_n']\n",
    "se_y = np.sqrt(p * (1 - p) / n)\n",
    "\n",
    "p = dz.iloc[1]['Proportion']\n",
    "n = dz.iloc[1]['Total_n']\n",
    "se_o = np.sqrt(p * (1 - p) / n)\n",
    "\n",
    "se_diff = np.sqrt(se_o**2 + se_y**2)\n",
    "\n",
    "y = dz.iloc[0]['Proportion']\n",
    "o = dz.iloc[1]['Proportion']\n",
    "d = y-o \n",
    "lcb = d - 1.96*se_diff\n",
    "ucb = d + 1.96*se_diff\n",
    "\n",
    "print('Sample Proportion of Recovery in (0,60] : {}%'.format(round(y*100,3)))\n",
    "print('Sample Proportion of Recovery in (60,90] {}%'.format(round(o*100,3)))\n",
    "print('Sample Difference: {}%'.format(round(d*100,3)))\n",
    "print('Standard Error: {}'.format(round(se_diff*100,3)))\n",
    "print('Confidence Interval of difference in proportion of recovery of patients above & below 60yrs: \\n({}%, {}%)'.format(round(lcb*100,3),round(ucb*100,3)))"
   ]
  },
  {
   "cell_type": "markdown",
   "metadata": {},
   "source": [
    "<B> Inference: </B><br>\n",
    "Considering all parameters same if we repeat this statistics procedure we can conclude that 95 times out of 100 times, the difference in the proportion of recovery in confirmed patients below and above age of 60 ranges between (-4.541% to 1.604%) which is also inclusive of Zero suggesting there might be no difference in the Proportion of Recovery.\n",
    "\n",
    "What does the heavier negative end signify?"
   ]
  },
  {
   "cell_type": "markdown",
   "metadata": {},
   "source": [
    "<I> Hypothesis Testing </I>"
   ]
  },
  {
   "cell_type": "markdown",
   "metadata": {},
   "source": [
    "<B>H<sub>0</sub>:</B> p<sub>1</sub>-p<sub>2</sub> = 0 <br>\n",
    "<B>H<sub>a</sub>:</B> p<sub>1</sub>-p<sub>2</sub> &ne; 0 <br><br>\n",
    "&emsp;&emsp;&emsp;&emsp;&emsp; where,  p<sub>1</sub> = proportion of recovery of patients below age of 60 who are recovering<br> &emsp;&emsp;&emsp;&emsp;&emsp;&emsp;&emsp;&emsp; p<sub>2</sub> = proportion of recovery of patients above age of 60 who are recovering"
   ]
  },
  {
   "cell_type": "code",
   "execution_count": 74,
   "metadata": {},
   "outputs": [],
   "source": [
    "lt60 = df['Age Group'].unique()[0]\n",
    "mt60 = df['Age Group'].unique()[2]"
   ]
  },
  {
   "cell_type": "code",
   "execution_count": 75,
   "metadata": {},
   "outputs": [
    {
     "name": "stdout",
     "output_type": "stream",
     "text": [
      "13.42038650460722 2054.5796134953926 1.7846258649743645 273.2153741350256\n"
     ]
    }
   ],
   "source": [
    "p_hat = df[df['Current Status']=='Recovered'].shape[0]/df.shape[0]\n",
    "p_hat\n",
    "\n",
    "n1 = df[df['Age Group']==lt60].shape[0]\n",
    "n2 = df[df['Age Group']==mt60].shape[0]\n",
    "\n",
    "print(n1*p_hat,n1*(1-p_hat),n2*p_hat,n2*(1-p_hat))\n"
   ]
  },
  {
   "cell_type": "markdown",
   "metadata": {},
   "source": [
    "Since, most of these samples are greater than 10 we can invoke CLT and assume normality. But for n2*p_hat we have some skepticism"
   ]
  },
  {
   "cell_type": "code",
   "execution_count": 76,
   "metadata": {},
   "outputs": [],
   "source": [
    "import statsmodels.api as sm\n",
    "\n",
    "dx_y = df.loc[df['Age Group']==lt60, 'Current Status'].replace({\"Recovered\": 1, \"Hospitalized\": 0, \"Deceased\":0})\n",
    "dx_o = df.loc[df['Age Group']==mt60, 'Current Status'].replace({\"Recovered\": 1, \"Hospitalized\": 0, \"Deceased\":0})\n",
    "t_stat, p_value, dof = sm.stats.ttest_ind(dx_y, dx_o) # prints test statistic, p-value, degrees of freedom`"
   ]
  },
  {
   "cell_type": "code",
   "execution_count": 77,
   "metadata": {},
   "outputs": [
    {
     "name": "stdout",
     "output_type": "stream",
     "text": [
      "t statistics: -1.0253260824239396\n",
      "p-value: 0.3053152869971153\n"
     ]
    }
   ],
   "source": [
    "print('t statistics: {}'.format(t_stat))\n",
    "print('p-value: {}'.format(p_value))"
   ]
  },
  {
   "cell_type": "code",
   "execution_count": 78,
   "metadata": {},
   "outputs": [],
   "source": [
    "df['Recovered'] = np.where(df['Current Status']=='Recovered',1,0)"
   ]
  },
  {
   "cell_type": "code",
   "execution_count": 79,
   "metadata": {},
   "outputs": [],
   "source": [
    "cont_df = pd.crosstab(df['Age Group'],df['Recovered']).iloc[0:]\n",
    "cont_df.reset_index(inplace=True,drop=True)\n",
    "cont = np.array(cont_df)"
   ]
  },
  {
   "cell_type": "code",
   "execution_count": 80,
   "metadata": {},
   "outputs": [
    {
     "name": "stdout",
     "output_type": "stream",
     "text": [
      "t statistics: 0.7772797917923104\n",
      "p-value: 0.37797436934239415\n"
     ]
    }
   ],
   "source": [
    "from scipy.stats import chi2_contingency\n",
    "\n",
    "chi,p,dof,ex = chi2_contingency(cont)\n",
    "print('t statistics: {}'.format(chi))\n",
    "print('p-value: {}'.format(p))"
   ]
  },
  {
   "cell_type": "markdown",
   "metadata": {},
   "source": [
    "<B> Inference: </B><br>\n",
    "From both of the tests: two population test & chi<sup>2</sup> test we have seen that the p-value > &alpha;. So, we do not have suuficient evidence to reject the Null Hypothesis. Therefore, we can infer that there is no difference in Rate of Recovery in the mentioned Age Groups."
   ]
  },
  {
   "cell_type": "markdown",
   "metadata": {},
   "source": [
    "<B> Question: </B> In the reported confirmed patients <i>below and above age 60</i> infected by COVID-19 virus in India, Is there any difference in the Proportion of Death?"
   ]
  },
  {
   "cell_type": "markdown",
   "metadata": {},
   "source": [
    "<I> Confidence Interval </I>"
   ]
  },
  {
   "cell_type": "code",
   "execution_count": 81,
   "metadata": {},
   "outputs": [
    {
     "data": {
      "text/html": [
       "<div>\n",
       "<style scoped>\n",
       "    .dataframe tbody tr th:only-of-type {\n",
       "        vertical-align: middle;\n",
       "    }\n",
       "\n",
       "    .dataframe tbody tr th {\n",
       "        vertical-align: top;\n",
       "    }\n",
       "\n",
       "    .dataframe thead th {\n",
       "        text-align: right;\n",
       "    }\n",
       "</style>\n",
       "<table border=\"1\" class=\"dataframe\">\n",
       "  <thead>\n",
       "    <tr style=\"text-align: right;\">\n",
       "      <th></th>\n",
       "      <th>Age Group</th>\n",
       "      <th>Proportion</th>\n",
       "      <th>Total_n</th>\n",
       "    </tr>\n",
       "  </thead>\n",
       "  <tbody>\n",
       "    <tr>\n",
       "      <td>0</td>\n",
       "      <td>(0, 60]</td>\n",
       "      <td>0.008221</td>\n",
       "      <td>2068</td>\n",
       "    </tr>\n",
       "    <tr>\n",
       "      <td>1</td>\n",
       "      <td>(60, 90]</td>\n",
       "      <td>0.098182</td>\n",
       "      <td>275</td>\n",
       "    </tr>\n",
       "  </tbody>\n",
       "</table>\n",
       "</div>"
      ],
      "text/plain": [
       "  Age Group  Proportion  Total_n\n",
       "0   (0, 60]    0.008221     2068\n",
       "1  (60, 90]    0.098182      275"
      ]
     },
     "execution_count": 81,
     "metadata": {},
     "output_type": "execute_result"
    }
   ],
   "source": [
    "df['Age Group'] = pd.cut(df['Age'],[0,60,90])\n",
    "dz = df.groupby(['Age Group']).agg({\"Current Status\": [lambda x: np.mean(x==\"Deceased\"), np.size]})\n",
    "dz.columns = [\"Proportion\", \"Total_n\"] # The default column names are unclear, so we replace them here\n",
    "dz.reset_index(inplace=True)\n",
    "dz"
   ]
  },
  {
   "cell_type": "code",
   "execution_count": 83,
   "metadata": {},
   "outputs": [
    {
     "name": "stdout",
     "output_type": "stream",
     "text": [
      "Sample Proportion of (0,60] Deaths: 0.822%\n",
      "Sample Proportion of (60,90] Deaths: 9.818%\n",
      "Sample Difference: -8.996%\n",
      "Standard Error: 1.805\n",
      "Confidence Interval of difference in proportion of death of patients above & below 60yrs: \n",
      "(-12.535%, -5.458%)\n"
     ]
    }
   ],
   "source": [
    "p = dz.iloc[0]['Proportion']\n",
    "n = dz.iloc[0]['Total_n']\n",
    "se_y = np.sqrt(p * (1 - p) / n)\n",
    "\n",
    "p = dz.iloc[1]['Proportion']\n",
    "n = dz.iloc[1]['Total_n']\n",
    "se_o = np.sqrt(p * (1 - p) / n)\n",
    "\n",
    "se_diff = np.sqrt(se_o**2 + se_y**2)\n",
    "\n",
    "y = dz.iloc[0]['Proportion']\n",
    "o = dz.iloc[1]['Proportion']\n",
    "d = y-o\n",
    "lcb = d - 1.96*se_diff\n",
    "ucb = d + 1.96*se_diff\n",
    "\n",
    "print('Sample Proportion of (0,60] Deaths: {}%'.format(round(y*100,3)))\n",
    "print('Sample Proportion of (60,90] Deaths: {}%'.format(round(o*100,3)))\n",
    "print('Sample Difference: {}%'.format(round(d*100,3)))\n",
    "print('Standard Error: {}'.format(round(se_diff*100,3)))\n",
    "print('Confidence Interval of difference in proportion of death of patients above & below 60yrs: \\n({}%, {}%)'.format(round(lcb*100,3),round(ucb*100,3)))"
   ]
  },
  {
   "cell_type": "markdown",
   "metadata": {},
   "source": [
    "<B> Inference: </B><br>\n",
    "1. Considering all parameters same if we repeat this statistics procedure we can conclude that 95 times out of 100 times, the difference in the rate of deaths in confirmed patients below and above age of 60 ranges between (-12.535% to -5.458%).\n",
    "2. The interval is entirely negative suggesting that Rate of Deaths in age group (60,90] is much higher."
   ]
  },
  {
   "cell_type": "markdown",
   "metadata": {},
   "source": [
    "<I> Hypothesis Testing </I>"
   ]
  },
  {
   "cell_type": "markdown",
   "metadata": {},
   "source": [
    "<B>H<sub>0</sub>:</B> p<sub>1</sub>-p<sub>2</sub> = 0 <br>\n",
    "<B>H<sub>a</sub>:</B> p<sub>1</sub>-p<sub>2</sub> &ne; 0 <br><br>\n",
    "&emsp;&emsp;&emsp;&emsp;&emsp; where,  p<sub>1</sub> = Proportion of Deaths of patients below age of 60<br> &emsp;&emsp;&emsp;&emsp;&emsp;&emsp;&emsp;&emsp;&ensp; p<sub>2</sub> = Proportion of Deaths of patients above age of 60 who are recovering"
   ]
  },
  {
   "cell_type": "code",
   "execution_count": 84,
   "metadata": {},
   "outputs": [],
   "source": [
    "lt60 = df['Age Group'].unique()[0]\n",
    "mt60 = df['Age Group'].unique()[2]"
   ]
  },
  {
   "cell_type": "code",
   "execution_count": 85,
   "metadata": {},
   "outputs": [
    {
     "name": "stdout",
     "output_type": "stream",
     "text": [
      "3.410705962496863 2064.5892940375034 0.4535513248001148 274.5464486751999\n"
     ]
    }
   ],
   "source": [
    "p_hat = df[df['Current Status']=='Deceased'].shape[0]/df.shape[0]\n",
    "p_hat\n",
    "\n",
    "n1 = df[df['Age Group']==lt60].shape[0]\n",
    "n2 = df[df['Age Group']==mt60].shape[0]\n",
    "\n",
    "print(n1*p_hat,n1*(1-p_hat),n2*p_hat,n2*(1-p_hat))\n"
   ]
  },
  {
   "cell_type": "markdown",
   "metadata": {},
   "source": [
    "Since, most of these samples are lesser than 10 we cannot invoke CLT and assume normality. "
   ]
  },
  {
   "cell_type": "code",
   "execution_count": 86,
   "metadata": {},
   "outputs": [
    {
     "name": "stdout",
     "output_type": "stream",
     "text": [
      "t statistics: -10.563653104578751\n",
      "p-value: 1.6314519782505304e-25\n"
     ]
    }
   ],
   "source": [
    "import statsmodels.api as sm\n",
    "\n",
    "dx_y = df.loc[df['Age Group']==lt60, 'Current Status'].replace({\"Recovered\": 0, \"Hospitalized\": 0, \"Deceased\":1})\n",
    "dx_o = df.loc[df['Age Group']==mt60, 'Current Status'].replace({\"Recovered\": 0, \"Hospitalized\": 0, \"Deceased\":1})\n",
    "t_stat, p_value, dof = sm.stats.ttest_ind(dx_y, dx_o) # prints test statistic, p-value, degrees of freedom`\n",
    "\n",
    "print('t statistics: {}'.format(t_stat))\n",
    "print('p-value: {}'.format(p_value))"
   ]
  },
  {
   "cell_type": "code",
   "execution_count": 87,
   "metadata": {},
   "outputs": [],
   "source": [
    "df['Recovered'] = np.where(df['Current Status']=='Deceased',1,0)\n",
    "\n",
    "cont_df = pd.crosstab(df['Age Group'],df['Deceased']).iloc[0:]\n",
    "cont_df.reset_index(inplace=True,drop=True)\n",
    "cont = np.array(cont_df)"
   ]
  },
  {
   "cell_type": "code",
   "execution_count": 88,
   "metadata": {},
   "outputs": [
    {
     "name": "stdout",
     "output_type": "stream",
     "text": [
      "t statistics: 101.77825449663591\n",
      "p-value: 6.2098113129339346e-24\n"
     ]
    }
   ],
   "source": [
    "from scipy.stats import chi2_contingency\n",
    "\n",
    "chi,p,dof,ex = chi2_contingency(cont)\n",
    "print('t statistics: {}'.format(chi))\n",
    "print('p-value: {}'.format(p))"
   ]
  },
  {
   "cell_type": "markdown",
   "metadata": {},
   "source": [
    "<B> Inference: </B><br>\n",
    "From chi<sup>2</sup> test we have seen that the p-value << &alpha;. So, we have suuficient evidence to reject the Null Hypothesis. Therefore, we can infer that there is difference in Rate of Death in the mentioned Age Groups. And from above 95% Confidence Interval it is very obvious that the rate of deaths in older age is higher. "
   ]
  },
  {
   "cell_type": "markdown",
   "metadata": {},
   "source": [
    "<B> Question: </B> In the reported Male & Female patients infected by COVID-19 virus in India, Is there any difference in the mean age for all the infected patients?"
   ]
  },
  {
   "cell_type": "code",
   "execution_count": 128,
   "metadata": {},
   "outputs": [
    {
     "name": "stdout",
     "output_type": "stream",
     "text": [
      "Loading Data...\n",
      "\n",
      "Rows: 27891\n",
      "Columns: 20\n"
     ]
    }
   ],
   "source": [
    "df = ImportData()\n",
    "df['Age Bracket'] = np.where(df['Age Bracket']=='28-35','32',df['Age Bracket'])\n",
    "df['Age'] = df['Age Bracket'].astype('float')"
   ]
  },
  {
   "cell_type": "code",
   "execution_count": 129,
   "metadata": {},
   "outputs": [],
   "source": [
    "dx = df[(df['Gender'].isnull()==False) & (df['Age'].isnull()==False)]"
   ]
  },
  {
   "cell_type": "code",
   "execution_count": 130,
   "metadata": {},
   "outputs": [
    {
     "data": {
      "text/plain": [
       "(2124, 21)"
      ]
     },
     "execution_count": 130,
     "metadata": {},
     "output_type": "execute_result"
    }
   ],
   "source": [
    "dx = dx[dx['Current Status']=='Hospitalized']\n",
    "dx.shape"
   ]
  },
  {
   "cell_type": "markdown",
   "metadata": {},
   "source": [
    "<I>Confidence Interval</I>"
   ]
  },
  {
   "cell_type": "code",
   "execution_count": 131,
   "metadata": {},
   "outputs": [
    {
     "name": "stdout",
     "output_type": "stream",
     "text": [
      "Sample Mean of Male: 38.357708049113235\n",
      "Sample Standard Deviation of Male: 16.006273895777618\n",
      "Sample Mean of Female: 36.61823708206687\n",
      "Sample Standard Deviation of Female: 18.906492694028913\n"
     ]
    }
   ],
   "source": [
    "x_f = dx[dx['Gender']=='F']['Age'].mean()\n",
    "std_f = dx[dx['Gender']=='F']['Age'].std()\n",
    "n_f = dx[dx['Gender']=='F'].shape[0]\n",
    "\n",
    "x_m = dx[dx['Gender']=='M']['Age'].mean()\n",
    "std_m = dx[dx['Gender']=='M']['Age'].std()\n",
    "n_m = dx[dx['Gender']=='M'].shape[0]\n",
    "\n",
    "print('Sample Mean of Male: {}'.format(x_m))\n",
    "print('Sample Standard Deviation of Male: {}'.format(std_m))\n",
    "print('Sample Mean of Female: {}'.format(x_f))\n",
    "print('Sample Standard Deviation of Female: {}'.format(std_f))"
   ]
  },
  {
   "cell_type": "code",
   "execution_count": 132,
   "metadata": {},
   "outputs": [
    {
     "data": {
      "image/png": "[encoded data removed]",
      "text/plain": [
       "<Figure size 1080x576 with 1 Axes>"
      ]
     },
     "metadata": {
      "needs_background": "light"
     },
     "output_type": "display_data"
    }
   ],
   "source": [
    "fig = plt.subplots(1,1,figsize=(15,8))\n",
    "sns.boxplot(dx['Gender'],dx['Age'])\n",
    "plt.show()"
   ]
  },
  {
   "cell_type": "markdown",
   "metadata": {},
   "source": [
    "There is a significant difference in the sample standard deviation for Male and Female. Therefore, we will take Unpooled Approach"
   ]
  },
  {
   "cell_type": "code",
   "execution_count": 135,
   "metadata": {},
   "outputs": [
    {
     "name": "stdout",
     "output_type": "stream",
     "text": [
      "Male\n"
     ]
    },
    {
     "data": {
      "image/png": "[encoded data removed]",
      "text/plain": [
       "<Figure size 432x288 with 1 Axes>"
      ]
     },
     "metadata": {
      "needs_background": "light"
     },
     "output_type": "display_data"
    },
    {
     "data": {
      "image/png": "[encoded data removed]",
      "text/plain": [
       "<Figure size 432x288 with 1 Axes>"
      ]
     },
     "metadata": {
      "needs_background": "light"
     },
     "output_type": "display_data"
    },
    {
     "name": "stdout",
     "output_type": "stream",
     "text": [
      "Female\n"
     ]
    },
    {
     "data": {
      "image/png": "[encoded data removed]",
      "text/plain": [
       "<Figure size 432x288 with 1 Axes>"
      ]
     },
     "metadata": {
      "needs_background": "light"
     },
     "output_type": "display_data"
    },
    {
     "data": {
      "image/png": "[encoded data removed]",
      "text/plain": [
       "<Figure size 432x288 with 1 Axes>"
      ]
     },
     "metadata": {
      "needs_background": "light"
     },
     "output_type": "display_data"
    }
   ],
   "source": [
    "import statsmodels.api as sm \n",
    "import pylab as py\n",
    "m = dx[dx['Gender']=='M']['Age']\n",
    "f = dx[dx['Gender']=='F']['Age']\n",
    "print('Male')\n",
    "sns.distplot(m)\n",
    "sm.qqplot(m,line='s')\n",
    "py.show()\n",
    "plt.show()\n",
    "print('Female')\n",
    "sns.distplot(f)\n",
    "sm.qqplot(f,line='s')\n",
    "py.show()\n",
    "plt.show()"
   ]
  },
  {
   "cell_type": "code",
   "execution_count": 109,
   "metadata": {},
   "outputs": [
    {
     "name": "stdout",
     "output_type": "stream",
     "text": [
      "-1.6822139750262175 5.161155909118948\n"
     ]
    }
   ],
   "source": [
    "x_diff = x_m-x_f\n",
    "se = np.sqrt((x_m**2/n_m)+(x_f**2/n_f))\n",
    "\n",
    "lcb = x_diff - 1.962 *se\n",
    "ucb = x_diff + 1.962 *se\n",
    "\n",
    "print(lcb,ucb)"
   ]
  },
  {
   "cell_type": "markdown",
   "metadata": {},
   "source": [
    "<B> Inference </B>:<br> With 95% Confidence, the difference in the mean age between Male and Female patients who are confirmed of infection is estimated to be between -1.682 years and 5.161 years.\n",
    "But the interval is heavier on positive scale and includes Zero indicating that there be no difference or the mean age in male is higher."
   ]
  },
  {
   "cell_type": "markdown",
   "metadata": {},
   "source": [
    "<I> Hypothesis Testing </I>"
   ]
  },
  {
   "cell_type": "markdown",
   "metadata": {},
   "source": [
    "<B>H<sub>0</sub>:</B> x<sub>m</sub>-x<sub>f</sub> = 0 <br>\n",
    "<B>H<sub>a</sub>:</B> x<sub>m</sub>-x<sub>f</sub> &ne; 0 <br><br>\n",
    "&emsp;&emsp;&emsp;&emsp;&emsp; where,  x<sub>m</sub> = Mean Age of Male confirmed patients <br> &emsp;&emsp;&emsp;&emsp;&emsp;&emsp;&emsp;&emsp;&ensp; x<sub>f</sub> = Mean Age of Female confirmed patients"
   ]
  },
  {
   "cell_type": "markdown",
   "metadata": {},
   "source": [
    "&alpha; = 0.05"
   ]
  },
  {
   "cell_type": "code",
   "execution_count": 113,
   "metadata": {},
   "outputs": [],
   "source": [
    "import scipy.stats as sm\n",
    "\n",
    "t,p = sm.ttest_ind(dx[dx['Gender']=='M']['Age'],dx[dx['Gender']=='F']['Age'],equal_var=False)"
   ]
  },
  {
   "cell_type": "code",
   "execution_count": 114,
   "metadata": {},
   "outputs": [
    {
     "name": "stdout",
     "output_type": "stream",
     "text": [
      "t statistics: 2.052829060468986\n",
      "p value: 0.04032599243357058\n"
     ]
    }
   ],
   "source": [
    "print('t statistics: {}'.format(t))\n",
    "print('p value: {}'.format(p))"
   ]
  },
  {
   "cell_type": "markdown",
   "metadata": {},
   "source": [
    "<B>Inference: </B><br>\n",
    "Since, p-value < &alpha;, we have some evidence to reject the Null Hypothesis. Therefore, there is a difference between the mean age of Male & Female who are confirmed to be infected by the virus."
   ]
  },
  {
   "cell_type": "code",
   "execution_count": null,
   "metadata": {},
   "outputs": [],
   "source": []
  }
 ],
 "metadata": {
  "kernelspec": {
   "display_name": "Python 3",
   "language": "python",
   "name": "python3"
  },
  "language_info": {
   "codemirror_mode": {
    "name": "ipython",
    "version": 3
   },
   "file_extension": ".py",
   "mimetype": "text/x-python",
   "name": "python",
   "nbconvert_exporter": "python",
   "pygments_lexer": "ipython3",
   "version": "3.7.4"
  }
 },
 "nbformat": 4,
 "nbformat_minor": 2
}
